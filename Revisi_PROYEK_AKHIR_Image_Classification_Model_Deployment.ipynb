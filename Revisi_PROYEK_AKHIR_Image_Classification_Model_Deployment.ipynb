{
  "nbformat": 4,
  "nbformat_minor": 0,
  "metadata": {
    "colab": {
      "name": "Revisi PROYEK AKHIR-Image Classification Model Deployment.ipynb",
      "provenance": [],
      "mount_file_id": "1J5FGCfliwvikLHd_fOZfEup50hrTGWxk",
      "authorship_tag": "ABX9TyOo7erYzIJGPPD9jt3gmvcq",
      "include_colab_link": true
    },
    "kernelspec": {
      "name": "python3",
      "display_name": "Python 3"
    },
    "language_info": {
      "name": "python"
    }
  },
  "cells": [
    {
      "cell_type": "markdown",
      "metadata": {
        "id": "view-in-github",
        "colab_type": "text"
      },
      "source": [
        "<a href=\"https://colab.research.google.com/github/daniahmad92/Project_akhir-Medium/blob/main/Revisi_PROYEK_AKHIR_Image_Classification_Model_Deployment.ipynb\" target=\"_parent\"><img src=\"https://colab.research.google.com/assets/colab-badge.svg\" alt=\"Open In Colab\"/></a>"
      ]
    },
    {
      "cell_type": "markdown",
      "source": [
        "**Data Diri:**\n",
        "\n",
        "Nama : Dadan Ahmad Dani\n",
        "\n",
        "Email: email@dadanahmaddani.com\n",
        "\n",
        "\n",
        "**Submission**\n",
        "\n",
        "Belajar Pengembangan Machine Learning\n",
        "Proyek Akhir : Image Classification Model Deployment\n",
        "\n",
        "mampu mengembangkan model ML untuk klasifikasi gambar kemudian mengkonversi model tersebut ke dalam format berkas TF-Lite yang dapat di embed di Android dan iOS."
      ],
      "metadata": {
        "id": "BTHi2eEAH6ED"
      }
    },
    {
      "cell_type": "markdown",
      "source": [
        "**Menyiapkan Library Tensorflow**"
      ],
      "metadata": {
        "id": "gZ44JDRkIbND"
      }
    },
    {
      "cell_type": "code",
      "execution_count": null,
      "metadata": {
        "colab": {
          "base_uri": "https://localhost:8080/"
        },
        "id": "5zzjTaoTWNIG",
        "outputId": "5e25b437-d8e7-4978-8f77-e10426af65ee"
      },
      "outputs": [
        {
          "output_type": "stream",
          "name": "stdout",
          "text": [
            "2.8.2\n"
          ]
        }
      ],
      "source": [
        "import tensorflow as tf\n",
        "print(tf.__version__)"
      ]
    },
    {
      "cell_type": "markdown",
      "source": [
        "***Dataset***"
      ],
      "metadata": {
        "id": "FTmamURbImOO"
      }
    },
    {
      "cell_type": "code",
      "source": [
        "!wget --no-check-certificate \\\n",
        "        https://dadanahmaddani.com/dataset/flower.zip \\\n",
        "        -O /tmp/flower.zip"
      ],
      "metadata": {
        "colab": {
          "base_uri": "https://localhost:8080/"
        },
        "id": "cglNr_MgWYp6",
        "outputId": "16e40cbc-9ccf-412d-c69c-231eae9d0bb2"
      },
      "execution_count": null,
      "outputs": [
        {
          "output_type": "stream",
          "name": "stdout",
          "text": [
            "--2022-06-17 13:19:46--  https://dadanahmaddani.com/dataset/flower.zip\n",
            "Resolving dadanahmaddani.com (dadanahmaddani.com)... 203.175.8.12\n",
            "Connecting to dadanahmaddani.com (dadanahmaddani.com)|203.175.8.12|:443... connected.\n",
            "HTTP request sent, awaiting response... 200 OK\n",
            "Length: 148097999 (141M) [application/zip]\n",
            "Saving to: ‘/tmp/flower.zip’\n",
            "\n",
            "/tmp/flower.zip     100%[===================>] 141.24M  16.3MB/s    in 10s     \n",
            "\n",
            "2022-06-17 13:19:57 (14.2 MB/s) - ‘/tmp/flower.zip’ saved [148097999/148097999]\n",
            "\n"
          ]
        }
      ]
    },
    {
      "cell_type": "code",
      "source": [
        "import zipfile,os\n",
        "local_zip = '/tmp/flower.zip'\n",
        "zip_ref = zipfile.ZipFile(local_zip, 'r')\n",
        "zip_ref.extractall('/tmp')\n",
        "zip_ref.close()"
      ],
      "metadata": {
        "id": "UjRB8I3uWeMy"
      },
      "execution_count": null,
      "outputs": []
    },
    {
      "cell_type": "code",
      "source": [
        "base_dir = '/tmp/flower'\n",
        "train_dir = os.path.join(base_dir,'train')\n",
        "val_dir = os.path.join(base_dir, 'val')\n",
        "\n",
        "ros_dir = os.path.join(base_dir,'roses')\n",
        "sun_dir = os.path.join(base_dir, 'sunflowers')\n",
        "tul_dir = os.path.join(base_dir, 'tulips')"
      ],
      "metadata": {
        "id": "Tz3IThjmWhWB"
      },
      "execution_count": null,
      "outputs": []
    },
    {
      "cell_type": "code",
      "source": [
        "os.mkdir(train_dir)\n",
        "os.mkdir(val_dir)"
      ],
      "metadata": {
        "id": "AH0ar4NCWjl0"
      },
      "execution_count": null,
      "outputs": []
    },
    {
      "cell_type": "code",
      "source": [
        "train_ros = os.path.join(train_dir, 'roses')\n",
        "train_sun = os.path.join(train_dir, 'sunflowers')\n",
        "train_tul = os.path.join(train_dir, 'tulips')"
      ],
      "metadata": {
        "id": "PsMzMETZWnMx"
      },
      "execution_count": null,
      "outputs": []
    },
    {
      "cell_type": "code",
      "source": [
        "validation_ros = os.path.join(val_dir, 'roses')\n",
        "validation_sun = os.path.join(val_dir, 'sunflowers')\n",
        "validation_tul = os.path.join(val_dir, 'tulips')"
      ],
      "metadata": {
        "id": "65367LsgWorE"
      },
      "execution_count": null,
      "outputs": []
    },
    {
      "cell_type": "code",
      "source": [
        "os.mkdir(train_ros)\n",
        "os.mkdir(train_sun)\n",
        "os.mkdir(train_tul)"
      ],
      "metadata": {
        "id": "QPEfHHFvWq8K"
      },
      "execution_count": null,
      "outputs": []
    },
    {
      "cell_type": "code",
      "source": [
        "os.mkdir(validation_ros)\n",
        "os.mkdir(validation_sun)\n",
        "os.mkdir(validation_tul)"
      ],
      "metadata": {
        "id": "d5TDhR9VWs-b"
      },
      "execution_count": null,
      "outputs": []
    },
    {
      "cell_type": "code",
      "source": [
        "from sklearn.model_selection import train_test_split\n",
        "\n",
        "train_ros_dir, val_ros_dir = train_test_split(os.listdir(ros_dir), test_size = 0.20)\n",
        "train_sun_dir, val_sun_dir = train_test_split(os.listdir(sun_dir), test_size = 0.20)\n",
        "train_tul_dir, val_tul_dir = train_test_split(os.listdir(tul_dir), test_size = 0.20)"
      ],
      "metadata": {
        "id": "9evIRS3SWxlG"
      },
      "execution_count": null,
      "outputs": []
    },
    {
      "cell_type": "code",
      "source": [
        "import shutil\n",
        "\n",
        "for file in train_ros_dir:\n",
        "  shutil.copy(os.path.join(ros_dir, file), os.path.join(train_ros, file))\n",
        "\n",
        "for file in train_sun_dir:\n",
        "  shutil.copy(os.path.join(sun_dir,file), os.path.join(train_sun,file))\n",
        "\n",
        "for file in train_tul_dir:\n",
        "  shutil.copy(os.path.join(tul_dir,file), os.path.join(train_tul,file))\n",
        "\n",
        "for file in val_ros_dir:\n",
        "  shutil.copy(os.path.join(ros_dir, file), os.path.join(validation_ros,file))\n",
        "\n",
        "for file in val_sun_dir:\n",
        "  shutil.copy(os.path.join(sun_dir,file), os.path.join(validation_sun,file))\n",
        "  \n",
        "for file in val_tul_dir:\n",
        "  shutil.copy(os.path.join(tul_dir,file), os.path.join(validation_tul,file))"
      ],
      "metadata": {
        "id": "SZeGqd_mXiM2"
      },
      "execution_count": null,
      "outputs": []
    },
    {
      "cell_type": "markdown",
      "source": [
        "**Preprocessing Data**"
      ],
      "metadata": {
        "id": "f9gMSA0wIyp5"
      }
    },
    {
      "cell_type": "code",
      "source": [
        "from tensorflow.keras.preprocessing.image import ImageDataGenerator\n",
        "\n",
        "train_datagen = ImageDataGenerator(\n",
        "    rescale = 1./255,\n",
        "    rotation_range = 20,\n",
        "    horizontal_flip = True,\n",
        "    shear_range = 0.2,\n",
        "    fill_mode = 'nearest',\n",
        ")\n",
        "test_datagen = ImageDataGenerator(\n",
        "    rescale = 1./225,\n",
        " \n",
        ")"
      ],
      "metadata": {
        "id": "4nHmpmT1XlhP"
      },
      "execution_count": null,
      "outputs": []
    },
    {
      "cell_type": "code",
      "source": [
        "train_generator = train_datagen.flow_from_directory(\n",
        "    train_dir,\n",
        "    target_size=(150,150),\n",
        "    batch_size= 32,\n",
        "    class_mode='categorical'\n",
        ")\n",
        "\n",
        "validation_generator = test_datagen.flow_from_directory(\n",
        "    val_dir,\n",
        "    target_size = (150,150),\n",
        "    batch_size = 32,\n",
        "    class_mode = 'categorical'\n",
        ")"
      ],
      "metadata": {
        "colab": {
          "base_uri": "https://localhost:8080/"
        },
        "id": "wRM0Kz07Xx6V",
        "outputId": "a0b1b63c-9058-45c6-cc97-bf9666143647"
      },
      "execution_count": null,
      "outputs": [
        {
          "output_type": "stream",
          "name": "stdout",
          "text": [
            "Found 2120 images belonging to 3 classes.\n",
            "Found 1041 images belonging to 3 classes.\n"
          ]
        }
      ]
    },
    {
      "cell_type": "markdown",
      "source": [
        "**Membuat Model**"
      ],
      "metadata": {
        "id": "9V_R8szKI8rM"
      }
    },
    {
      "cell_type": "code",
      "source": [
        "model = tf.keras.models.Sequential([\n",
        " \n",
        "  tf.keras.layers.Conv2D(32, (3,3), activation = 'relu', input_shape= (150,150,3)),\n",
        "  tf.keras.layers.MaxPooling2D(2,2),\n",
        "  tf.keras.layers.Conv2D(64,(3,3), activation= 'relu'),\n",
        "  tf.keras.layers.MaxPooling2D(2,2),\n",
        "  tf.keras.layers.Conv2D(128,(3,3), activation= 'relu'),\n",
        "  tf.keras.layers.MaxPooling2D(2,2),\n",
        "  tf.keras.layers.Flatten(),\n",
        "  tf.keras.layers.Dropout(0.5),\n",
        "  tf.keras.layers.Dense(512, activation= 'relu'),\n",
        "  tf.keras.layers.Dense(3, activation= 'softmax')\n",
        "])\n",
        "\n",
        "model.summary()"
      ],
      "metadata": {
        "colab": {
          "base_uri": "https://localhost:8080/"
        },
        "id": "rhUpToPAX5y6",
        "outputId": "bfd353b8-bfd2-480d-8bf0-ad9d447594e0"
      },
      "execution_count": null,
      "outputs": [
        {
          "output_type": "stream",
          "name": "stdout",
          "text": [
            "Model: \"sequential_6\"\n",
            "_________________________________________________________________\n",
            " Layer (type)                Output Shape              Param #   \n",
            "=================================================================\n",
            " conv2d_14 (Conv2D)          (None, 148, 148, 32)      896       \n",
            "                                                                 \n",
            " max_pooling2d_14 (MaxPoolin  (None, 74, 74, 32)       0         \n",
            " g2D)                                                            \n",
            "                                                                 \n",
            " conv2d_15 (Conv2D)          (None, 72, 72, 64)        18496     \n",
            "                                                                 \n",
            " max_pooling2d_15 (MaxPoolin  (None, 36, 36, 64)       0         \n",
            " g2D)                                                            \n",
            "                                                                 \n",
            " conv2d_16 (Conv2D)          (None, 34, 34, 128)       73856     \n",
            "                                                                 \n",
            " max_pooling2d_16 (MaxPoolin  (None, 17, 17, 128)      0         \n",
            " g2D)                                                            \n",
            "                                                                 \n",
            " flatten_5 (Flatten)         (None, 36992)             0         \n",
            "                                                                 \n",
            " dropout_5 (Dropout)         (None, 36992)             0         \n",
            "                                                                 \n",
            " dense_9 (Dense)             (None, 512)               18940416  \n",
            "                                                                 \n",
            " dense_10 (Dense)            (None, 3)                 1539      \n",
            "                                                                 \n",
            "=================================================================\n",
            "Total params: 19,035,203\n",
            "Trainable params: 19,035,203\n",
            "Non-trainable params: 0\n",
            "_________________________________________________________________\n"
          ]
        }
      ]
    },
    {
      "cell_type": "code",
      "source": [
        "model.compile(loss='categorical_crossentropy',\n",
        "              optimizer=tf.optimizers.Adam(),\n",
        "              metrics=['accuracy'])"
      ],
      "metadata": {
        "id": "CnH6_cN5X-cd"
      },
      "execution_count": null,
      "outputs": []
    },
    {
      "cell_type": "markdown",
      "source": [
        "**Melatih Model**"
      ],
      "metadata": {
        "id": "gB-Zzn7AJB_b"
      }
    },
    {
      "cell_type": "code",
      "source": [
        "class myCallback(tf.keras.callbacks.Callback):\n",
        "  def on_epoch_end(self, epoch, logs={}):\n",
        "    if(logs.get('accuracy')>0.98):\n",
        "      print(\"\\nAkurasi telah mencapai >98%!\")\n",
        "      self.model.stop_training = True\n",
        "callbacks = myCallback()"
      ],
      "metadata": {
        "id": "crQWCICqqADx"
      },
      "execution_count": null,
      "outputs": []
    },
    {
      "cell_type": "code",
      "source": [
        "history = model.fit(\n",
        "    train_generator,\n",
        "    epochs = 20,\n",
        "    validation_data = validation_generator,\n",
        "    callbacks=[callbacks]\n",
        ")"
      ],
      "metadata": {
        "colab": {
          "base_uri": "https://localhost:8080/"
        },
        "id": "MGD81uDSZk88",
        "outputId": "8ed38b68-2e57-4273-a249-93e7c69e3521"
      },
      "execution_count": null,
      "outputs": [
        {
          "output_type": "stream",
          "name": "stdout",
          "text": [
            "Epoch 1/20\n",
            "67/67 [==============================] - 114s 2s/step - loss: 0.3755 - accuracy: 0.8387 - val_loss: 0.2785 - val_accuracy: 0.8761\n",
            "Epoch 2/20\n",
            "67/67 [==============================] - 115s 2s/step - loss: 0.3539 - accuracy: 0.8406 - val_loss: 0.3210 - val_accuracy: 0.8530\n",
            "Epoch 3/20\n",
            "67/67 [==============================] - 114s 2s/step - loss: 0.3743 - accuracy: 0.8307 - val_loss: 0.4219 - val_accuracy: 0.8329\n",
            "Epoch 4/20\n",
            "67/67 [==============================] - 118s 2s/step - loss: 0.3488 - accuracy: 0.8514 - val_loss: 0.3056 - val_accuracy: 0.8665\n",
            "Epoch 5/20\n",
            "67/67 [==============================] - 115s 2s/step - loss: 0.2905 - accuracy: 0.8811 - val_loss: 0.2223 - val_accuracy: 0.9116\n",
            "Epoch 6/20\n",
            "67/67 [==============================] - 116s 2s/step - loss: 0.3094 - accuracy: 0.8722 - val_loss: 0.2061 - val_accuracy: 0.9174\n",
            "Epoch 7/20\n",
            "67/67 [==============================] - 116s 2s/step - loss: 0.2597 - accuracy: 0.8906 - val_loss: 0.2194 - val_accuracy: 0.9059\n",
            "Epoch 8/20\n",
            "67/67 [==============================] - 117s 2s/step - loss: 0.2681 - accuracy: 0.8925 - val_loss: 0.2108 - val_accuracy: 0.9116\n",
            "Epoch 9/20\n",
            "67/67 [==============================] - 117s 2s/step - loss: 0.2222 - accuracy: 0.9071 - val_loss: 0.1331 - val_accuracy: 0.9500\n",
            "Epoch 10/20\n",
            "67/67 [==============================] - 115s 2s/step - loss: 0.2264 - accuracy: 0.9175 - val_loss: 0.1676 - val_accuracy: 0.9318\n",
            "Epoch 11/20\n",
            "67/67 [==============================] - 115s 2s/step - loss: 0.2173 - accuracy: 0.9175 - val_loss: 0.2681 - val_accuracy: 0.8895\n",
            "Epoch 12/20\n",
            "67/67 [==============================] - 114s 2s/step - loss: 0.2317 - accuracy: 0.9127 - val_loss: 0.1355 - val_accuracy: 0.9472\n",
            "Epoch 13/20\n",
            "67/67 [==============================] - 114s 2s/step - loss: 0.1833 - accuracy: 0.9297 - val_loss: 0.1448 - val_accuracy: 0.9424\n",
            "Epoch 14/20\n",
            "67/67 [==============================] - 117s 2s/step - loss: 0.1344 - accuracy: 0.9524 - val_loss: 0.1077 - val_accuracy: 0.9587\n",
            "Epoch 15/20\n",
            "67/67 [==============================] - 117s 2s/step - loss: 0.1625 - accuracy: 0.9387 - val_loss: 0.0867 - val_accuracy: 0.9721\n",
            "Epoch 16/20\n",
            "67/67 [==============================] - 115s 2s/step - loss: 0.1470 - accuracy: 0.9472 - val_loss: 0.1056 - val_accuracy: 0.9587\n",
            "Epoch 17/20\n",
            "67/67 [==============================] - 114s 2s/step - loss: 0.1600 - accuracy: 0.9406 - val_loss: 0.1351 - val_accuracy: 0.9462\n",
            "Epoch 18/20\n",
            "67/67 [==============================] - 110s 2s/step - loss: 0.1218 - accuracy: 0.9538 - val_loss: 0.0568 - val_accuracy: 0.9750\n",
            "Epoch 19/20\n",
            "67/67 [==============================] - 111s 2s/step - loss: 0.1252 - accuracy: 0.9524 - val_loss: 0.0606 - val_accuracy: 0.9798\n",
            "Epoch 20/20\n",
            "67/67 [==============================] - 110s 2s/step - loss: 0.1167 - accuracy: 0.9604 - val_loss: 0.0713 - val_accuracy: 0.9769\n"
          ]
        }
      ]
    },
    {
      "cell_type": "markdown",
      "source": [
        "**Evaluasi Tingkat Akurasi**"
      ],
      "metadata": {
        "id": "VD2p8jTtJLlC"
      }
    },
    {
      "cell_type": "code",
      "source": [
        "import matplotlib.pyplot as plt\n",
        "\n",
        "# plot accuracy train & validation\n",
        "plt.plot(history.history['accuracy'], 'r', label='Training Accuracy')\n",
        "plt.plot(history.history['val_accuracy'], 'b', label='Validation Accuracy')\n",
        "plt.title('Accuracy & Validation Accuracy')\n",
        "plt.ylabel('Value')\n",
        "plt.xlabel('Epoch')\n",
        "plt.legend(loc=\"lower right\")\n",
        "plt.show()"
      ],
      "metadata": {
        "colab": {
          "base_uri": "https://localhost:8080/",
          "height": 295
        },
        "id": "Of1auQwrifwP",
        "outputId": "b3fd20e1-8638-4747-be3c-2eb238d39891"
      },
      "execution_count": null,
      "outputs": [
        {
          "output_type": "display_data",
          "data": {
            "text/plain": [
              "<Figure size 432x288 with 1 Axes>"
            ],
            "image/png": "[encoded data removed]"
          },
          "metadata": {
            "needs_background": "light"
          }
        }
      ]
    },
    {
      "cell_type": "code",
      "source": [
        "# plot loss train & validation\n",
        "plt.plot(history.history['loss'], 'r', label='Training Loss')\n",
        "plt.plot(history.history['val_loss'], 'b', label='Validation Loss')\n",
        "plt.title('Loss & Validation Loss')\n",
        "plt.ylabel('Value')\n",
        "plt.xlabel('Epoch')\n",
        "plt.legend(loc=\"upper right\")\n",
        "plt.show()"
      ],
      "metadata": {
        "colab": {
          "base_uri": "https://localhost:8080/",
          "height": 295
        },
        "id": "9uaC8VfAGxCM",
        "outputId": "d1f196da-0a12-4949-cf61-8054a2aa23de"
      },
      "execution_count": null,
      "outputs": [
        {
          "output_type": "display_data",
          "data": {
            "text/plain": [
              "<Figure size 432x288 with 1 Axes>"
            ],
            "image/png": "[encoded data removed]"
          },
          "metadata": {
            "needs_background": "light"
          }
        }
      ]
    },
    {
      "cell_type": "markdown",
      "source": [
        "**Menyimpan model ke dalam format TF-Lite.**"
      ],
      "metadata": {
        "id": "dsWRWjUVJQbh"
      }
    },
    {
      "cell_type": "code",
      "source": [
        "# Menyimpan model dalam format SavedModel\n",
        "import pathlib\n",
        "export_dir = 'folder_output/'\n",
        "tf.saved_model.save(model, export_dir)\n",
        " \n",
        "# Convert SavedModel menjadi vegs.tflite\n",
        "converter = tf.lite.TFLiteConverter.from_saved_model(export_dir)\n",
        "tflite_model = converter.convert()\n",
        " \n",
        "tflite_model_file = pathlib.Path('final.tflite')\n",
        "tflite_model_file.write_bytes(tflite_model)"
      ],
      "metadata": {
        "colab": {
          "base_uri": "https://localhost:8080/"
        },
        "id": "XKLne9MjG_lZ",
        "outputId": "ee9fbc1b-6b26-4001-d369-df08349fca98"
      },
      "execution_count": null,
      "outputs": [
        {
          "output_type": "stream",
          "name": "stdout",
          "text": [
            "INFO:tensorflow:Assets written to: folder_output/assets\n"
          ]
        },
        {
          "output_type": "stream",
          "name": "stderr",
          "text": [
            "WARNING:absl:Buffer deduplication procedure will be skipped when flatbuffer library is not properly loaded\n"
          ]
        },
        {
          "output_type": "execute_result",
          "data": {
            "text/plain": [
              "76144520"
            ]
          },
          "metadata": {},
          "execution_count": 84
        }
      ]
    }
  ]
}